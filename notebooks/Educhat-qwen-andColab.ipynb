{
 "cells": [
  {
   "cell_type": "markdown",
   "id": "c2403b3f",
   "metadata": {},
   "source": [
    "Colab 直接打开 \n",
    "\n",
    "<a href=\"https://colab.research.google.com/github/sndnyang/LearnIsFun/blob/master/educhat/TryEduchat-qwen.ipynb\" target=\"_parent\"><img src=\"https://colab.research.google.com/assets/colab-badge.svg\" alt=\"Open In Colab\"/></a>"
   ]
  },
  {
   "cell_type": "markdown",
   "id": "bb576795",
   "metadata": {},
   "source": [
    "# Educhat Qwen版 "
   ]
  },
  {
   "cell_type": "code",
   "execution_count": null,
   "id": "e23c5366",
   "metadata": {},
   "outputs": [],
   "source": [
    "!pip install transformers==4.41.1 tokenizers==0.19.1 transformers_stream_generator==0.0.5 sentencepiece==0.2.0 accelerate==0.30.1\n",
    "!pip install tiktoken==0.7.0   einops==0.8.0 \n",
    "#  !pip install flash-attn --no-build-isolation     # 据说会加速, 但我本地没安装成功又不影响使用，就注释掉了。"
   ]
  },
  {
   "cell_type": "code",
   "execution_count": null,
   "id": "921e7eef",
   "metadata": {},
   "outputs": [],
   "source": [
    "# 海外、colab 不需要， 但国内大概需要\n",
    "!export HF_ENDPOINT=https://hf-mirror.com\n",
    "\n",
    "# 路径， 我就默认 colab的路径， 需要相应修改一下。\n",
    "!huggingface-cli download --resume-download  ecnu-icalk/educhat-sft-002-1.8b-qwen1.5   --local-dir /content/sample_data/educhat-sft-1.8b-qwen1.5\n",
    " "
   ]
  },
  {
   "cell_type": "code",
   "execution_count": null,
   "id": "9eb0b91f",
   "metadata": {},
   "outputs": [],
   "source": [
    "# 补上缺失的文件--可能也需要手动下载，翻墙失败的话\n",
    "!wget https://huggingface.co/Qwen/Qwen1.5-1.8B-Chat/resolve/main/merges.txt -P   /content/sample_data/educhat-sft-1.8b-qwen1.5/       # 这个是必需的\n",
    "!wget https://huggingface.co/Qwen/Qwen1.5-1.8B-Chat/resolve/main/tokenizer.json -P /content/sample_data/educhat-sft-1.8b-qwen1.5/        # 这个补了，没看"
   ]
  },
  {
   "cell_type": "code",
   "execution_count": null,
   "id": "886d6fd2",
   "metadata": {},
   "outputs": [
    {
     "name": "stderr",
     "output_type": "stream",
     "text": [
      "Special tokens have been added in the vocabulary, make sure the associated word embeddings are fine-tuned or trained.\n"
     ]
    }
   ],
   "source": [
    "import os\n",
    "from transformers import AutoModelForCausalLM, AutoTokenizer\n",
    "device = \"cuda\" # the device to load the model onto\n",
    "llmpath = '/content/sample_data'\n",
    "\n",
    "model = AutoModelForCausalLM.from_pretrained(\n",
    "    os.path.join(llmpath, \"educhat-sft-1.8b-qwen1.5\"),\n",
    "    torch_dtype=\"auto\",\n",
    "    device_map=\"auto\"\n",
    ")\n",
    "# GPU 显存使用 8.8G\n",
    "tokenizer = AutoTokenizer.from_pretrained(os.path.join(llmpath, \"educhat-sft-1.8b-qwen1.5\"))"
   ]
  },
  {
   "cell_type": "code",
   "execution_count": null,
   "id": "b5828cef",
   "metadata": {},
   "outputs": [
    {
     "name": "stdout",
     "output_type": "stream",
     "text": [
      "好的，我可以向您推荐一些心理相关的书籍。根据您的需求，我可以为您推荐一些适合的心理学或心理学相关的书籍。例如，如果您想要了解心理健康方面的知识，我可以向您推荐《心理学与生活》、《心理治疗师的工作方法》等书籍。如果您想要了解心理学的基本概念和理论\n"
     ]
    }
   ],
   "source": [
    "system_prompt = \\\n",
    "\"<|system|>\"'''你是一个人工智能助手，名字叫EduChat。\n",
    "- EduChat是一个由华东师范大学开发的对话式语言模型。\n",
    "EduChat的工具\n",
    "- Web search: Disable.\n",
    "- Calculators: Disable.\n",
    "EduChat的能力\n",
    "- Inner Thought: Disable.\n",
    "对话主题\n",
    "- General: Disable.\n",
    "- Psychology: Disable.\n",
    "- Socrates: Enable.'''\"</s>\"\n",
    "\n",
    "query = system_prompt + \"</s><|prompter|>:给我推荐几本心理相关的书籍</s><|assistant|>:\"\n",
    "inputs = tokenizer(query, return_tensors=\"pt\", padding=True).to(0)\n",
    "outputs = model.generate(**inputs, do_sample=True, temperature=0.7, top_p=0.8, repetition_penalty=1.02, max_new_tokens=64)\n",
    "response = tokenizer.decode(outputs[0][inputs.input_ids.shape[1]:], skip_special_tokens=True)\n",
    "print(response)\n",
    "\n",
    "# 从结果来看， 比 13B的百川是差一些\n",
    "# 更大的 Qwen 没试"
   ]
  },
  {
   "cell_type": "code",
   "execution_count": null,
   "id": "5b6ad9d5",
   "metadata": {},
   "outputs": [],
   "source": []
  },
  {
   "cell_type": "markdown",
   "id": "a1f97b96",
   "metadata": {},
   "source": [
    "## 通义原模型（可略过）\n",
    "\n",
    "https://huggingface.co/Qwen/Qwen1.5-1.8B-Chat\n"
   ]
  },
  {
   "cell_type": "code",
   "execution_count": null,
   "id": "f62505f0-aaa3-4bd9-b695-cbf0d4d7b85b",
   "metadata": {},
   "outputs": [],
   "source": []
  }
 ],
 "metadata": {
  "kernelspec": {
   "display_name": "Python 3 (ipykernel)",
   "language": "python",
   "name": "python3"
  },
  "language_info": {
   "codemirror_mode": {
    "name": "ipython",
    "version": 3
   },
   "file_extension": ".py",
   "mimetype": "text/x-python",
   "name": "python",
   "nbconvert_exporter": "python",
   "pygments_lexer": "ipython3",
   "version": "3.9.19"
  }
 },
 "nbformat": 4,
 "nbformat_minor": 5
}
